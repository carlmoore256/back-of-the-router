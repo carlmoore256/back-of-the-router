{
 "cells": [
  {
   "cell_type": "code",
   "execution_count": 1,
   "metadata": {},
   "outputs": [],
   "source": [
    "from generator import BOTR_Generator\n",
    "from coco_utils import all_category_names\n",
    "from utils import imshow, print_pretty"
   ]
  },
  {
   "cell_type": "code",
   "execution_count": 3,
   "metadata": {},
   "outputs": [
    {
     "name": "stdout",
     "output_type": "stream",
     "text": [
      "loading coco assets - dataset/category_map.pickle\n",
      "loading coco assets - dataset/coco_organized.pickle\n",
      "loading coco assets - dataset/annotations/captions_train2017.json\n",
      "loading annotations into memory...\n",
      "Done (t=0.94s)\n",
      "creating index...\n",
      "index created!\n"
     ]
    }
   ],
   "source": [
    "# takes ~7s\n",
    "botr = BOTR_Generator(\"dataset/\")"
   ]
  },
  {
   "cell_type": "code",
   "execution_count": 4,
   "metadata": {},
   "outputs": [
    {
     "name": "stderr",
     "output_type": "stream",
     "text": [
      "100%|█████████▉| 0.9871597290039062/0.99 [00:02<00:00,  4.90s/it] /home/carl/pyenv/lib/python3.8/site-packages/tqdm/std.py:533: TqdmWarning: clamping frac to range [0, 1]\n",
      "  full_bar = Bar(frac,\n",
      "100%|██████████| 0.9914169311523438/0.99 [00:02<00:00,  2.87s/it]\n"
     ]
    },
    {
     "ename": "NameError",
     "evalue": "name 'np' is not defined",
     "output_type": "error",
     "traceback": [
      "\u001b[0;31m---------------------------------------------------------------------------\u001b[0m",
      "\u001b[0;31mNameError\u001b[0m                                 Traceback (most recent call last)",
      "\u001b[0;32m/tmp/ipykernel_4181488/1124231968.py\u001b[0m in \u001b[0;36m<module>\u001b[0;34m\u001b[0m\n\u001b[1;32m     37\u001b[0m }\n\u001b[1;32m     38\u001b[0m \u001b[0;34m\u001b[0m\u001b[0m\n\u001b[0;32m---> 39\u001b[0;31m \u001b[0mimage\u001b[0m\u001b[0;34m,\u001b[0m \u001b[0mmetadata\u001b[0m \u001b[0;34m=\u001b[0m \u001b[0mbotr\u001b[0m\u001b[0;34m.\u001b[0m\u001b[0mgenerate_botr\u001b[0m\u001b[0;34m(\u001b[0m\u001b[0mconfig\u001b[0m\u001b[0;34m,\u001b[0m \u001b[0moutpath\u001b[0m\u001b[0;34m=\u001b[0m\u001b[0;34m\"out/\"\u001b[0m\u001b[0;34m)\u001b[0m\u001b[0;34m\u001b[0m\u001b[0;34m\u001b[0m\u001b[0m\n\u001b[0m\u001b[1;32m     40\u001b[0m \u001b[0mimshow\u001b[0m\u001b[0;34m(\u001b[0m\u001b[0mimage\u001b[0m\u001b[0;34m,\u001b[0m \u001b[0mmetadata\u001b[0m\u001b[0;34m[\u001b[0m\u001b[0;34m'name'\u001b[0m\u001b[0;34m]\u001b[0m\u001b[0;34m)\u001b[0m\u001b[0;34m\u001b[0m\u001b[0;34m\u001b[0m\u001b[0m\n\u001b[1;32m     41\u001b[0m \u001b[0mprint\u001b[0m\u001b[0;34m(\u001b[0m\u001b[0mmetadata\u001b[0m\u001b[0;34m[\u001b[0m\u001b[0;34m\"description\"\u001b[0m\u001b[0;34m]\u001b[0m\u001b[0;34m)\u001b[0m\u001b[0;34m\u001b[0m\u001b[0;34m\u001b[0m\u001b[0m\n",
      "\u001b[0;32m~/back-of-the-router/generator.py\u001b[0m in \u001b[0;36mgenerate_botr\u001b[0;34m(self, config, outpath)\u001b[0m\n\u001b[1;32m    203\u001b[0m   \u001b[0;32mdef\u001b[0m \u001b[0mgenerate_botr\u001b[0m\u001b[0;34m(\u001b[0m\u001b[0mself\u001b[0m\u001b[0;34m,\u001b[0m \u001b[0mconfig\u001b[0m\u001b[0;34m,\u001b[0m \u001b[0moutpath\u001b[0m\u001b[0;34m=\u001b[0m\u001b[0;32mNone\u001b[0m\u001b[0;34m)\u001b[0m\u001b[0;34m:\u001b[0m\u001b[0;34m\u001b[0m\u001b[0;34m\u001b[0m\u001b[0m\n\u001b[1;32m    204\u001b[0m     \u001b[0mimage\u001b[0m\u001b[0;34m,\u001b[0m \u001b[0mmetadata\u001b[0m \u001b[0;34m=\u001b[0m \u001b[0mself\u001b[0m\u001b[0;34m.\u001b[0m\u001b[0mgenerate_image\u001b[0m\u001b[0;34m(\u001b[0m\u001b[0mconfig\u001b[0m\u001b[0;34m,\u001b[0m \u001b[0mimageProgress\u001b[0m\u001b[0;34m=\u001b[0m\u001b[0;32mFalse\u001b[0m\u001b[0;34m)\u001b[0m\u001b[0;34m\u001b[0m\u001b[0;34m\u001b[0m\u001b[0m\n\u001b[0;32m--> 205\u001b[0;31m     \u001b[0m_\u001b[0m\u001b[0;34m,\u001b[0m \u001b[0mdescription\u001b[0m \u001b[0;34m=\u001b[0m \u001b[0mzipf_description\u001b[0m\u001b[0;34m(\u001b[0m\u001b[0mmetadata\u001b[0m\u001b[0;34m,\u001b[0m \u001b[0msentence_len\u001b[0m\u001b[0;34m=\u001b[0m\u001b[0mrandom\u001b[0m\u001b[0;34m.\u001b[0m\u001b[0mrandint\u001b[0m\u001b[0;34m(\u001b[0m\u001b[0;36m3\u001b[0m\u001b[0;34m,\u001b[0m \u001b[0;36m14\u001b[0m\u001b[0;34m)\u001b[0m\u001b[0;34m)\u001b[0m\u001b[0;34m\u001b[0m\u001b[0;34m\u001b[0m\u001b[0m\n\u001b[0m\u001b[1;32m    206\u001b[0m     \u001b[0mname\u001b[0m \u001b[0;34m=\u001b[0m \u001b[0mgenerate_name\u001b[0m\u001b[0;34m(\u001b[0m\u001b[0mmetadata\u001b[0m\u001b[0;34m[\u001b[0m\u001b[0;34m\"category_percentage\"\u001b[0m\u001b[0;34m]\u001b[0m\u001b[0;34m)\u001b[0m\u001b[0;34m\u001b[0m\u001b[0;34m\u001b[0m\u001b[0m\n\u001b[1;32m    207\u001b[0m     \u001b[0mmetadata\u001b[0m\u001b[0;34m[\u001b[0m\u001b[0;34m\"name\"\u001b[0m\u001b[0;34m]\u001b[0m \u001b[0;34m=\u001b[0m \u001b[0mname\u001b[0m\u001b[0;34m\u001b[0m\u001b[0;34m\u001b[0m\u001b[0m\n",
      "\u001b[0;32m~/back-of-the-router/wording.py\u001b[0m in \u001b[0;36mzipf_description\u001b[0;34m(metadata, sentence_len, plotDist)\u001b[0m\n\u001b[1;32m     36\u001b[0m \u001b[0;34m\u001b[0m\u001b[0m\n\u001b[1;32m     37\u001b[0m     \u001b[0;31m# generate distribution to pull from\u001b[0m\u001b[0;34m\u001b[0m\u001b[0;34m\u001b[0m\u001b[0;34m\u001b[0m\u001b[0m\n\u001b[0;32m---> 38\u001b[0;31m     \u001b[0mdist\u001b[0m \u001b[0;34m=\u001b[0m \u001b[0mnp\u001b[0m\u001b[0;34m.\u001b[0m\u001b[0mrandom\u001b[0m\u001b[0;34m.\u001b[0m\u001b[0mexponential\u001b[0m\u001b[0;34m(\u001b[0m\u001b[0mscale\u001b[0m\u001b[0;34m=\u001b[0m\u001b[0;36m1\u001b[0m\u001b[0;34m,\u001b[0m \u001b[0msize\u001b[0m\u001b[0;34m=\u001b[0m\u001b[0msentence_len\u001b[0m\u001b[0;34m)\u001b[0m\u001b[0;34m\u001b[0m\u001b[0;34m\u001b[0m\u001b[0m\n\u001b[0m\u001b[1;32m     39\u001b[0m     \u001b[0mdist\u001b[0m \u001b[0;34m=\u001b[0m \u001b[0;34m(\u001b[0m\u001b[0;34m(\u001b[0m\u001b[0mdist\u001b[0m \u001b[0;34m-\u001b[0m \u001b[0mnp\u001b[0m\u001b[0;34m.\u001b[0m\u001b[0mmin\u001b[0m\u001b[0;34m(\u001b[0m\u001b[0mdist\u001b[0m\u001b[0;34m)\u001b[0m\u001b[0;34m)\u001b[0m \u001b[0;34m/\u001b[0m \u001b[0;34m(\u001b[0m\u001b[0mnp\u001b[0m\u001b[0;34m.\u001b[0m\u001b[0mmax\u001b[0m\u001b[0;34m(\u001b[0m\u001b[0mdist\u001b[0m\u001b[0;34m)\u001b[0m \u001b[0;34m-\u001b[0m \u001b[0mnp\u001b[0m\u001b[0;34m.\u001b[0m\u001b[0mmin\u001b[0m\u001b[0;34m(\u001b[0m\u001b[0mdist\u001b[0m\u001b[0;34m)\u001b[0m\u001b[0;34m)\u001b[0m \u001b[0;34m*\u001b[0m \u001b[0;34m(\u001b[0m\u001b[0mlen\u001b[0m\u001b[0;34m(\u001b[0m\u001b[0mzipf_chart\u001b[0m\u001b[0;34m.\u001b[0m\u001b[0mkeys\u001b[0m\u001b[0;34m(\u001b[0m\u001b[0;34m)\u001b[0m\u001b[0;34m)\u001b[0m\u001b[0;34m-\u001b[0m\u001b[0;36m1\u001b[0m\u001b[0;34m)\u001b[0m\u001b[0;34m)\u001b[0m\u001b[0;34m.\u001b[0m\u001b[0mastype\u001b[0m\u001b[0;34m(\u001b[0m\u001b[0mint\u001b[0m\u001b[0;34m)\u001b[0m\u001b[0;34m\u001b[0m\u001b[0;34m\u001b[0m\u001b[0m\n\u001b[1;32m     40\u001b[0m \u001b[0;34m\u001b[0m\u001b[0m\n",
      "\u001b[0;31mNameError\u001b[0m: name 'np' is not defined"
     ]
    }
   ],
   "source": [
    "allowedCateg = all_category_names(exclude=['person', 'other'])\n",
    "# allowedCateg = random.sample(allowedCateg, random.randint(1,len(allowedCateg)))\n",
    "# allowedCateg = [\"sky\"]\n",
    "\n",
    "blendConfig = {\n",
    "  \"use_blending\" : False,\n",
    "  \"pyr_kernel_size\" : 5,\n",
    "  \"pyr_kernel_sigma\" : 1.,\n",
    "  \"mask_kernel_size\" : 5,\n",
    "  \"mask_kernel_sigma\" : 1.,\n",
    "  \"max_depth\" : 5,\n",
    "  \"blur_masks\" : True,\n",
    "  \"blur_iters\" : 1,\n",
    "  \"plot_levels\" : False\n",
    "}\n",
    "\n",
    "\n",
    "config = {\n",
    "  # average size of each patch (1 being mean of distribution)\n",
    "  'avgPatchSize' : 0.1,\n",
    "  # average size variance of each patch added\n",
    "  'avgPatchVariance' : 0.1,\n",
    "  # minimum area of a patch added, expressed as percentage px after masking\n",
    "  'minPatchArea' : 0.001, \n",
    "  # maximim area of a patch added, expressed as percentage px after masking\n",
    "  'maxPatchArea' : 0.4, \n",
    "  # target percentage of pixels to fill\n",
    "  'targetFill' : 0.99,\n",
    "  # output image size\n",
    "  'outputSize' : (512, 512),\n",
    "  # prevent supercategories from appearing\n",
    "  'allowedCategories' : allowedCateg,\n",
    "  # choose either \"stuff_ann\", \"instance_ann\", or \"any\"\n",
    "  'ann_key' : \"any\",\n",
    "  # image blending options\n",
    "  'image_blending' : blendConfig\n",
    "}\n",
    "\n",
    "image, metadata = botr.generate_botr(config, outpath=\"out/\")\n",
    "imshow(image, metadata['name'])\n",
    "print(metadata[\"description\"])"
   ]
  },
  {
   "cell_type": "code",
   "execution_count": 1,
   "metadata": {},
   "outputs": [],
   "source": [
    "from utils import load_json, save_json, print_pretty, sort_dict\n",
    "from generator import generate_name\n",
    "import random"
   ]
  },
  {
   "cell_type": "code",
   "execution_count": 6,
   "metadata": {},
   "outputs": [],
   "source": [
    "def generate_name(metadata, modify_inplace=True):\n",
    "    word_len = random.randint(3, 20)\n",
    "    sorted_attrs = dict(sorted(metadata.items(), key=lambda item: item[1], reverse=True))\n",
    "    name = \"\"\n",
    "    attr_idx = 0\n",
    "    while len(name) < word_len:\n",
    "        key = list(sorted_attrs.keys())[attr_idx]\n",
    "        slice_len = int((sorted_attrs[key] * word_len) ** 2)\n",
    "        if slice_len == 0:\n",
    "            slice_len = 1\n",
    "        offset = random.randint(0, len(key)-slice_len-1)\n",
    "        name += key[offset:offset+slice_len]\n",
    "        attr_idx += 1\n",
    "    # sets the name attribute of metadata\n",
    "    if modify_inplace:\n",
    "        metadata[\"name\"] = name\n",
    "    return name, metadata"
   ]
  },
  {
   "cell_type": "code",
   "execution_count": 4,
   "metadata": {},
   "outputs": [
    {
     "name": "stdout",
     "output_type": "stream",
     "text": [
      "{\n",
      "  \"plant\": 0.2799873352050781,\n",
      "  \"vehicle\": 0.23099517822265625,\n",
      "  \"raw-material\": 0.1172943115234375,\n",
      "  \"textile\": 0.06676101684570312,\n",
      "  \"sports\": 0.055816650390625,\n",
      "  \"wall\": 0.048976898193359375,\n",
      "  \"electronic\": 0.0459442138671875,\n",
      "  \"food-stuff\": 0.028446197509765625,\n",
      "  \"solid\": 0.02082061767578125,\n",
      "  \"animal\": 0.018463134765625,\n",
      "  \"outdoor\": 0.014148712158203125,\n",
      "  \"furniture-stuff\": 0.01345062255859375,\n",
      "  \"indoor\": 0.013248443603515625,\n",
      "  \"window\": 0.011653900146484375,\n",
      "  \"furniture\": 0.0085906982421875,\n",
      "  \"sky\": 0.007480621337890625,\n",
      "  \"accessory\": 0.00540924072265625,\n",
      "  \"kitchen\": 0.003734588623046875,\n",
      "  \"food\": 0.002246856689453125,\n",
      "  \"building\": 0,\n",
      "  \"structural\": 0,\n",
      "  \"floor\": 0,\n",
      "  \"ceiling\": 0,\n",
      "  \"ground\": 0,\n",
      "  \"water\": 0,\n",
      "  \"other\": 0,\n",
      "  \"person\": 0,\n",
      "  \"appliance\": 0\n",
      "}\n"
     ]
    }
   ],
   "source": [
    "metadata = load_json('out/9.json')\n",
    "\n",
    "sorted_attrs = sort_dict(metadata[\"category_percentage\"])\n",
    "print_pretty(sorted_attrs)\n",
    "# name = generate_name(metadata)"
   ]
  },
  {
   "cell_type": "code",
   "execution_count": null,
   "metadata": {},
   "outputs": [],
   "source": []
  }
 ],
 "metadata": {
  "interpreter": {
   "hash": "76210a200b60875837510f4be6f70fa6b691604ec599ffadd41048d1519129f2"
  },
  "kernelspec": {
   "display_name": "Python 3.8.10 64-bit ('pyenv': venv)",
   "language": "python",
   "name": "python3"
  },
  "language_info": {
   "codemirror_mode": {
    "name": "ipython",
    "version": 3
   },
   "file_extension": ".py",
   "mimetype": "text/x-python",
   "name": "python",
   "nbconvert_exporter": "python",
   "pygments_lexer": "ipython3",
   "version": "3.8.10"
  },
  "orig_nbformat": 4
 },
 "nbformat": 4,
 "nbformat_minor": 2
}
