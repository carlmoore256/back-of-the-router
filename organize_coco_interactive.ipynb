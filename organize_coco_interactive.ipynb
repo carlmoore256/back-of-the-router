{
 "cells": [
  {
   "cell_type": "code",
   "execution_count": 2,
   "metadata": {},
   "outputs": [],
   "source": [
    "from coco_utils import load_coco_info, load_coco_image\n",
    "import numpy as np\n",
    "from pycocotools.coco import COCO\n",
    "import matplotlib.pyplot as plt\n",
    "from collections import OrderedDict\n",
    "import json\n",
    "import random\n",
    "import os\n",
    "from PIL import Image, ImageOps\n",
    "import plotly.express as px\n",
    "import pickle"
   ]
  },
  {
   "cell_type": "code",
   "execution_count": 3,
   "metadata": {},
   "outputs": [
    {
     "name": "stdout",
     "output_type": "stream",
     "text": [
      "loading annotations into memory...\n",
      "Done (t=21.88s)\n",
      "creating index...\n",
      "index created!\n"
     ]
    }
   ],
   "source": [
    "coco_instances = COCO(\"dataset/annotations/instances_train2017.json\")"
   ]
  },
  {
   "cell_type": "code",
   "execution_count": 4,
   "metadata": {},
   "outputs": [
    {
     "name": "stdout",
     "output_type": "stream",
     "text": [
      "loading annotations into memory...\n",
      "Done (t=43.34s)\n",
      "creating index...\n",
      "index created!\n"
     ]
    }
   ],
   "source": [
    "coco_stuff = COCO(\"dataset/annotations/stuff_train2017.json\")"
   ]
  },
  {
   "cell_type": "code",
   "execution_count": 9,
   "metadata": {},
   "outputs": [],
   "source": [
    "coco_captions = load_coco_info(\"dataset/annotations/captions_train2017.json\")"
   ]
  },
  {
   "cell_type": "code",
   "execution_count": 10,
   "metadata": {},
   "outputs": [
    {
     "name": "stdout",
     "output_type": "stream",
     "text": [
      "118287 118287 118287\n",
      "591753 860001 747458\n"
     ]
    }
   ],
   "source": [
    "# they all have the same # of images, but the available data varies\n",
    "print(len(coco_captions['images']), len(coco_instances.dataset['images']), len(coco_stuff.dataset['images']))\n",
    "print(len(coco_captions['annotations']), len(coco_instances.dataset['annotations']), len(coco_stuff.dataset['annotations']))"
   ]
  },
  {
   "cell_type": "code",
   "execution_count": 11,
   "metadata": {},
   "outputs": [],
   "source": [
    "avail_caption_imgs = sorted(list(set(([key['image_id'] for key in coco_captions['annotations']]))))\n",
    "avail_instance_imgs = sorted(list(set(([key['image_id'] for key in coco_instances.dataset['annotations']]))))\n",
    "avail_stuff_imgs = sorted(list(set(([key['image_id'] for key in coco_stuff.dataset['annotations']]))))"
   ]
  },
  {
   "cell_type": "code",
   "execution_count": 12,
   "metadata": {},
   "outputs": [],
   "source": [
    "valid_imgs = sorted(set.intersection(*map(set,[avail_caption_imgs, avail_instance_imgs, avail_stuff_imgs])))\n",
    "coco_images = {}\n",
    "sorted_stuff = {}\n",
    "\n",
    "for ann in coco_stuff.dataset['annotations']:\n",
    "  img_id = ann['image_id']\n",
    "  if img_id in sorted_stuff.keys():\n",
    "    sorted_stuff[img_id].append(ann)\n",
    "  else:\n",
    "    sorted_stuff[img_id] = []\n",
    "\n",
    "sorted_instances = {}\n",
    "\n",
    "for instance in coco_instances.dataset['annotations']:\n",
    "  img_id = instance[\"image_id\"]\n",
    "  if instance[\"image_id\"] in sorted_instances.keys():\n",
    "    sorted_instances[img_id].append(instance)\n",
    "  else:\n",
    "    sorted_instances[img_id] = []\n",
    "\n",
    "sorted_captions = {}\n",
    "for cap in coco_captions['annotations']:\n",
    "    sorted_captions[cap['image_id']] = cap\n",
    "\n",
    "licenses = {}\n",
    "for l in coco_captions['licenses']:\n",
    "    licenses[l['id']] = l\n",
    "\n",
    "sorted_images = {}\n",
    "for img in coco_captions['images']:\n",
    "  sorted_images[img['id']] = img\n",
    "\n",
    "for img_id in valid_imgs:\n",
    "\n",
    "  image = sorted_images[img_id]\n",
    "\n",
    "  annotation = sorted_captions[img_id]\n",
    "\n",
    "  instance_ann = sorted_instances[img_id]\n",
    "\n",
    "  stuff_ann = sorted_stuff[img_id]\n",
    "\n",
    "  coco_images[img_id] = {\n",
    "      \"filename\" : image['file_name'],\n",
    "      \"dims\" : (image['height'], image['width']),\n",
    "      \"date\" : image[\"date_captured\"],\n",
    "      \"license_id\" : int(licenses[image['license']]['id']),\n",
    "      \"license_name\" : licenses[image['license']]['name'],\n",
    "      \"ann_id\" : image['id'],\n",
    "      \"caption\" : annotation[\"caption\"],\n",
    "      \"caption_id\" : annotation[\"id\"],\n",
    "      \"instance_ann\" : instance_ann,\n",
    "      \"stuff_ann\" : stuff_ann,\n",
    "  }\n"
   ]
  },
  {
   "cell_type": "code",
   "execution_count": 13,
   "metadata": {},
   "outputs": [],
   "source": [
    "with open('dataset/coco_organized.pickle', 'wb') as handle:\n",
    "    pickle.dump(coco_images, handle, protocol=pickle.HIGHEST_PROTOCOL)"
   ]
  },
  {
   "cell_type": "code",
   "execution_count": 4,
   "metadata": {},
   "outputs": [],
   "source": [
    "with open('dataset/coco_organized.pickle', 'rb') as handle:\n",
    "    coco_images = pickle.load(handle)"
   ]
  },
  {
   "cell_type": "code",
   "execution_count": 5,
   "metadata": {},
   "outputs": [],
   "source": [
    "category_map = {}\n",
    "\n",
    "for cat in coco_stuff.dataset['categories']:\n",
    "  category_map[cat['id']] = cat\n",
    "\n",
    "for cat in coco_instances.dataset['categories']:\n",
    "  category_map[cat['id']] = cat"
   ]
  },
  {
   "cell_type": "code",
   "execution_count": 6,
   "metadata": {},
   "outputs": [],
   "source": [
    "with open('dataset/category_map.pickle', 'wb') as handle:\n",
    "    pickle.dump(category_map, handle, protocol=pickle.HIGHEST_PROTOCOL)"
   ]
  }
 ],
 "metadata": {
  "interpreter": {
   "hash": "76210a200b60875837510f4be6f70fa6b691604ec599ffadd41048d1519129f2"
  },
  "kernelspec": {
   "display_name": "Python 3.8.10 64-bit ('pyenv': venv)",
   "language": "python",
   "name": "python3"
  },
  "language_info": {
   "codemirror_mode": {
    "name": "ipython",
    "version": 3
   },
   "file_extension": ".py",
   "mimetype": "text/x-python",
   "name": "python",
   "nbconvert_exporter": "python",
   "pygments_lexer": "ipython3",
   "version": "3.8.10"
  },
  "orig_nbformat": 4
 },
 "nbformat": 4,
 "nbformat_minor": 2
}
