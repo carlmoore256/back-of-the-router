{
 "cells": [
  {
   "cell_type": "code",
   "execution_count": 1,
   "metadata": {},
   "outputs": [],
   "source": [
    "from metaplex import format_attributes, generate_metadata, format_royalties\n",
    "from utils import save_json, copy_file\n",
    "import glob\n",
    "import json\n",
    "import os\n",
    "import natsort"
   ]
  },
  {
   "cell_type": "code",
   "execution_count": 3,
   "metadata": {},
   "outputs": [
    {
     "name": "stdout",
     "output_type": "stream",
     "text": [
      "[{'address': '3JHzNr2MCWa8Niekwcn8Ymw4HYdbA7xHKfGEASarkFjM', 'share': 100}]\n"
     ]
    }
   ],
   "source": [
    "royalties = format_royalties(\n",
    "   [ \"3JHzNr2MCWa8Niekwcn8Ymw4HYdbA7xHKfGEASarkFjM\"],\n",
    "   [100]\n",
    ")\n",
    "print(royalties)"
   ]
  },
  {
   "cell_type": "code",
   "execution_count": 6,
   "metadata": {},
   "outputs": [
    {
     "name": "stdout",
     "output_type": "stream",
     "text": [
      "copied generated/img_0.png to assets/img_0.png\n",
      "copied generated/img_1.png to assets/img_1.png\n",
      "copied generated/img_2.png to assets/img_2.png\n",
      "copied generated/img_3.png to assets/img_3.png\n",
      "copied generated/img_4.png to assets/img_4.png\n",
      "copied generated/img_5.png to assets/img_5.png\n",
      "copied generated/img_6.png to assets/img_6.png\n",
      "copied generated/img_7.png to assets/img_7.png\n",
      "copied generated/img_8.png to assets/img_8.png\n",
      "copied generated/img_9.png to assets/img_9.png\n"
     ]
    }
   ],
   "source": [
    "# save nfts with proper metadata\n",
    "path = \"generated/\"\n",
    "symbol = \"BOTR\"\n",
    "collection_name = \"Back of the Router\"\n",
    "description = \"Confusing images\"\n",
    "category = \"image\"\n",
    "collection_family='cymatic-cyborgues'\n",
    "seller_fee_basis_points=0\n",
    "assets_folder = \"assets/\" # output destination for metaplex-cli upload\n",
    "\n",
    "nft_imgs = glob.glob(os.path.join(path, \"*.png\"))\n",
    "nft_attrs = glob.glob(os.path.join(path, \"raw\", \"*.json\"))\n",
    "\n",
    "nft_imgs = natsort.natsorted(nft_imgs)\n",
    "nft_attrs = natsort.natsorted(nft_attrs)\n",
    "\n",
    "for img, attr in zip(nft_imgs, nft_attrs):\n",
    "    # dict_attrs = json.loads(attr)\n",
    "    name = os.path.splitext(os.path.split(img)[-1])[0]\n",
    "    with open(attr) as f:\n",
    "        dict_attrs = json.loads(f.read())\n",
    "    attr_format = format_attributes([dict_attrs])\n",
    "    metadata = generate_metadata(\n",
    "        name=name,\n",
    "        symbol=symbol,\n",
    "        royalties=royalties,\n",
    "        collection_name=collection_name,\n",
    "        description=description,\n",
    "        image_path=img,\n",
    "        animation_path='',\n",
    "        external_url='homunculi.org/art',\n",
    "        attributes=attr_format,\n",
    "        files=[img],\n",
    "        category=category,\n",
    "        collection_family=collection_family,\n",
    "        seller_fee_basis_points=seller_fee_basis_points\n",
    "    )\n",
    "    \n",
    "    # save it in the output assets dir\n",
    "    save_json(os.path.join(assets_folder, os.path.split(attr)[-1]), metadata)\n",
    "    copy_file(img, assets_folder)"
   ]
  },
  {
   "cell_type": "code",
   "execution_count": null,
   "metadata": {},
   "outputs": [],
   "source": []
  }
 ],
 "metadata": {
  "interpreter": {
   "hash": "31f2aee4e71d21fbe5cf8b01ff0e069b9275f58929596ceb00d14d90e3e16cd6"
  },
  "kernelspec": {
   "display_name": "Python 3.8.10 64-bit",
   "language": "python",
   "name": "python3"
  },
  "language_info": {
   "codemirror_mode": {
    "name": "ipython",
    "version": 3
   },
   "file_extension": ".py",
   "mimetype": "text/x-python",
   "name": "python",
   "nbconvert_exporter": "python",
   "pygments_lexer": "ipython3",
   "version": "3.8.10"
  },
  "orig_nbformat": 4
 },
 "nbformat": 4,
 "nbformat_minor": 2
}
