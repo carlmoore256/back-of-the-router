{
 "cells": [
  {
   "cell_type": "code",
   "execution_count": 1,
   "metadata": {},
   "outputs": [],
   "source": [
    "from metaplex import format_attributes, generate_metadata, format_royalties\n",
    "from utils import save_json, copy_file\n",
    "import glob\n",
    "import json\n",
    "import os\n",
    "import natsort"
   ]
  },
  {
   "cell_type": "code",
   "execution_count": 2,
   "metadata": {},
   "outputs": [],
   "source": [
    "!rm -r assets/*"
   ]
  },
  {
   "cell_type": "code",
   "execution_count": 3,
   "metadata": {},
   "outputs": [
    {
     "name": "stdout",
     "output_type": "stream",
     "text": [
      "[{'address': '6TNtaPn8MEaBvekb7PzFnPTm6aTHdvFmSBoRznjETjXK', 'share': 100}]\n"
     ]
    }
   ],
   "source": [
    "royalties = format_royalties(\n",
    "   [ \"6TNtaPn8MEaBvekb7PzFnPTm6aTHdvFmSBoRznjETjXK\"],\n",
    "   [100]\n",
    ")\n",
    "print(royalties)"
   ]
  },
  {
   "cell_type": "code",
   "execution_count": 4,
   "metadata": {},
   "outputs": [
    {
     "name": "stdout",
     "output_type": "stream",
     "text": [
      "copied generated/0.png to assets/0.png\n",
      "copied generated/1.png to assets/1.png\n"
     ]
    }
   ],
   "source": [
    "# save nfts with proper metadata\n",
    "path = \"generated/\"\n",
    "symbol = \"BOTRDEV\"\n",
    "collection_name = \"Back of the Router\"\n",
    "description = \"Confusing images\"\n",
    "category = \"image\"\n",
    "collection_family='cymatic-cyborgues'\n",
    "seller_fee_basis_points=0\n",
    "assets_folder = \"assets/\" # output destination for metaplex-cli upload\n",
    "\n",
    "nft_imgs = glob.glob(os.path.join(path, \"*.png\"))\n",
    "nft_attrs = glob.glob(os.path.join(path, \"raw\", \"*.json\"))\n",
    "\n",
    "nft_imgs = natsort.natsorted(nft_imgs)\n",
    "nft_attrs = natsort.natsorted(nft_attrs)\n",
    "index = 0\n",
    "\n",
    "for img, attr in zip(nft_imgs, nft_attrs):\n",
    "    # dict_attrs = json.loads(attr)\n",
    "    name = os.path.splitext(os.path.split(img)[-1])[0]\n",
    "\n",
    "    with open(attr) as f:\n",
    "        dict_attrs = json.loads(f.read())\n",
    "\n",
    "    # name = dict_attrs.pop(\"name\")\n",
    "    name = dict_attrs[\"name\"]\n",
    "    attr_format = format_attributes([dict_attrs])\n",
    "    metadata = generate_metadata(\n",
    "        name=f\"{name}\",\n",
    "        symbol=symbol,\n",
    "        royalties=royalties,\n",
    "        collection_name=collection_name,\n",
    "        description=description,\n",
    "        image_file=os.path.split(img)[-1],\n",
    "        animation_path='',\n",
    "        external_url='homunculi.org/art',\n",
    "        attributes=attr_format,\n",
    "        files=[img],\n",
    "        category=category,\n",
    "        collection_family=collection_family,\n",
    "        seller_fee_basis_points=seller_fee_basis_points\n",
    "    )\n",
    "    index += 1\n",
    "    # save it in the output assets dir\n",
    "    save_json(os.path.join(assets_folder, os.path.split(attr)[-1]), metadata)\n",
    "    copy_file(img, assets_folder)"
   ]
  },
  {
   "cell_type": "code",
   "execution_count": 21,
   "metadata": {},
   "outputs": [
    {
     "name": "stdout",
     "output_type": "stream",
     "text": [
      "/bin/bash: ts-node: command not found\n"
     ]
    }
   ],
   "source": [
    "!ts-node ./js/packages/cli/src/candy-machine-cli.ts upload ~/back-of-the-router/assets/ --env devnet --keypair ~/.config/solana/devnet.js"
   ]
  },
  {
   "cell_type": "code",
   "execution_count": null,
   "metadata": {},
   "outputs": [],
   "source": []
  }
 ],
 "metadata": {
  "interpreter": {
   "hash": "31f2aee4e71d21fbe5cf8b01ff0e069b9275f58929596ceb00d14d90e3e16cd6"
  },
  "kernelspec": {
   "display_name": "Python 3.8.10 64-bit",
   "language": "python",
   "name": "python3"
  },
  "language_info": {
   "codemirror_mode": {
    "name": "ipython",
    "version": 3
   },
   "file_extension": ".py",
   "mimetype": "text/x-python",
   "name": "python",
   "nbconvert_exporter": "python",
   "pygments_lexer": "ipython3",
   "version": "3.8.10"
  },
  "orig_nbformat": 4
 },
 "nbformat": 4,
 "nbformat_minor": 2
}
